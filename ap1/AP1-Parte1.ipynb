{
 "cells": [
  {
   "cell_type": "markdown",
   "id": "c25462bf",
   "metadata": {},
   "source": [
    "# Processamento Digital de Imagens - AP1"
   ]
  },
  {
   "cell_type": "markdown",
   "id": "925c732a",
   "metadata": {},
   "source": [
    "## Parte I - Teórica"
   ]
  },
  {
   "cell_type": "markdown",
   "id": "02f63753",
   "metadata": {},
   "source": [
    "1. Qual o significado literal da palavra inglesa \"Pixel\"?\n",
    "1. O que caracteriza uma definição \"restrita\" daquilo que é Processamento de Imagens?\n",
    "1. Forneça exemplos daquilo que corresponde a operações comuns ao baixo nível de processamento de imagens.\n",
    "1. Nomeie ao menos três faixas do espectro eletromagnético que podem ser usadas para obtenção de imagens. Cite ao menos um cenário em que esses tipos de imagens são úteis.\n",
    "1. Cite ao menos 2 outras formas de energia que são comumente utilizadas na obtenção de imagens. Em quais cenários se aplicam?"
   ]
  }
 ],
 "metadata": {
  "kernelspec": {
   "display_name": "Python 3.8 (tensorflow-gpu)",
   "language": "python",
   "name": "tensorflow-gpu"
  },
  "language_info": {
   "codemirror_mode": {
    "name": "ipython",
    "version": 3
   },
   "file_extension": ".py",
   "mimetype": "text/x-python",
   "name": "python",
   "nbconvert_exporter": "python",
   "pygments_lexer": "ipython3",
   "version": "3.8.13"
  }
 },
 "nbformat": 4,
 "nbformat_minor": 5
}
